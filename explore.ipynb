{
 "cells": [
  {
   "cell_type": "code",
   "execution_count": 1,
   "metadata": {},
   "outputs": [],
   "source": [
    "from diskdict import DiskDict\n",
    "import random"
   ]
  },
  {
   "cell_type": "code",
   "execution_count": 2,
   "metadata": {},
   "outputs": [],
   "source": [
    "wikidata = DiskDict('wikidata/diskdict')"
   ]
  },
  {
   "cell_type": "code",
   "execution_count": 3,
   "metadata": {},
   "outputs": [],
   "source": [
    "with open ('datasets/conll-2003/train.txt', 'r') as f:\n",
    "    lines = f.readlines()"
   ]
  },
  {
   "cell_type": "code",
   "execution_count": 4,
   "metadata": {},
   "outputs": [],
   "source": [
    "def process_data(lines):\n",
    "    sentences = []\n",
    "    sent = []\n",
    "    for l in lines:\n",
    "        if l == '\\n' and len(sent) > 0:\n",
    "            sentences.append(sent)\n",
    "            sent = []\n",
    "            continue\n",
    "        x = l.split()\n",
    "        sent.append({'word': x[0], 'bio': x[-1]})\n",
    "    return sentences"
   ]
  },
  {
   "cell_type": "code",
   "execution_count": 5,
   "metadata": {},
   "outputs": [],
   "source": [
    "def ent_from_sent(sent):\n",
    "    ents = {}\n",
    "    in_ent = False\n",
    "    ent = []\n",
    "    generic = None\n",
    "    for x in sent:\n",
    "        if x['bio'] == 'O' and in_ent:\n",
    "            try: \n",
    "                ents[generic].append(' '.join(ent))\n",
    "            except KeyError:\n",
    "                ents[generic] = [' '.join(ent)]\n",
    "            in_ent = False\n",
    "            ent = []\n",
    "            generic = None\n",
    "            continue\n",
    "        if x['bio'] != 'O':\n",
    "            in_ent = True\n",
    "            if generic is None:\n",
    "                generic = x['bio'].split('-')[1]\n",
    "            ent.append(x['word'])\n",
    "    return ents"
   ]
  },
  {
   "cell_type": "code",
   "execution_count": 6,
   "metadata": {},
   "outputs": [],
   "source": [
    "def ent_from_data(data):\n",
    "    ents = {}\n",
    "    for dt in data:\n",
    "        ent_part = ent_from_sent(dt)\n",
    "        for i, x in ent_part.items():\n",
    "            if i in ents:\n",
    "                ents[i] += x\n",
    "            else:\n",
    "                ents[i] = x\n",
    "    for i, x in ents.items():\n",
    "        ents[i] = list(set(x))\n",
    "    return ents"
   ]
  },
  {
   "cell_type": "code",
   "execution_count": 7,
   "metadata": {},
   "outputs": [],
   "source": [
    "data = process_data(lines)\n",
    "entities_by_generics = ent_from_data(data)"
   ]
  },
  {
   "cell_type": "code",
   "execution_count": 8,
   "metadata": {},
   "outputs": [],
   "source": [
    "entities = set([x for _, t in entities_by_generics.items() for x in t])"
   ]
  },
  {
   "cell_type": "code",
   "execution_count": 9,
   "metadata": {},
   "outputs": [],
   "source": [
    "entities_matched = {}"
   ]
  },
  {
   "cell_type": "code",
   "execution_count": 10,
   "metadata": {},
   "outputs": [],
   "source": [
    "ent_id_table = DiskDict('wikidata/ent_id_table')"
   ]
  },
  {
   "cell_type": "code",
   "execution_count": 11,
   "metadata": {},
   "outputs": [],
   "source": [
    "#wikidata['Q31']"
   ]
  },
  {
   "cell_type": "code",
   "execution_count": 12,
   "metadata": {},
   "outputs": [],
   "source": [
    "for ent in entities:\n",
    "    ent = ent.lower()\n",
    "    if ent_id_table[ent] is not None:\n",
    "        try: \n",
    "            entities_matched[ent] += ent_id_table[ent]\n",
    "        except KeyError:\n",
    "            entities_matched[ent] = ent_id_table[ent]\n",
    "for ent, ids in entities_matched.items():\n",
    "    entities_matched[ent] = list(set(ids))"
   ]
  },
  {
   "cell_type": "code",
   "execution_count": 321,
   "metadata": {},
   "outputs": [
    {
     "data": {
      "text/plain": [
       "0.6287888395688015"
      ]
     },
     "execution_count": 321,
     "metadata": {},
     "output_type": "execute_result"
    }
   ],
   "source": [
    "len(entities_matched) / len(entities)"
   ]
  },
  {
   "cell_type": "code",
   "execution_count": 13,
   "metadata": {},
   "outputs": [],
   "source": [
    "import json\n",
    "with open('wikidata/properties.json', 'r+') as f:\n",
    "    properties_dict = json.load(f)"
   ]
  },
  {
   "cell_type": "code",
   "execution_count": 14,
   "metadata": {},
   "outputs": [],
   "source": [
    "properties_dict_inv = {x['label']: t for t, x in properties_dict.items()}"
   ]
  },
  {
   "cell_type": "code",
   "execution_count": 15,
   "metadata": {},
   "outputs": [],
   "source": [
    "for ent, ids in entities_matched.items():\n",
    "    if len(ids) > 1:\n",
    "        print('ambiguity found: {}, {}'.format(ent, ids))"
   ]
  },
  {
   "cell_type": "code",
   "execution_count": 16,
   "metadata": {},
   "outputs": [],
   "source": [
    "properties_matched = {}\n",
    "for ent, ids in entities_matched.items():\n",
    "    id = ids[0]\n",
    "    for rel in wikidata[id]['relations']:\n",
    "        if rel not in properties_matched:\n",
    "            properties_matched[rel] = properties_dict[rel]\n",
    "    "
   ]
  },
  {
   "cell_type": "code",
   "execution_count": 17,
   "metadata": {},
   "outputs": [],
   "source": [
    "def filter_by_properties(entities, properties):\n",
    "    filtered = {}\n",
    "    for ent, ids in entities.items():\n",
    "        for id in ids:\n",
    "            for p in properties:\n",
    "                if p in wikidata[id]['relations']:\n",
    "                    try:\n",
    "                        filtered[ent].append(id)\n",
    "                        filtered[ent] = list(set(filtered[ent]))\n",
    "                    except KeyError:\n",
    "                        filtered[ent] = [id]\n",
    "    return filtered"
   ]
  },
  {
   "cell_type": "code",
   "execution_count": 216,
   "metadata": {},
   "outputs": [],
   "source": [
    "properties_to_use = ['record held', \n",
    "                     'field of work', \n",
    "                     'occupation', \n",
    "                     'member of political party', \n",
    "                     'instance of', \n",
    "                     'genre', \n",
    "                     'owner of', \n",
    "                     'creator', \n",
    "                     'developer', \n",
    "                     'subclass of', \n",
    "                    'followed by',\n",
    "                    'follows']\n",
    "properties_to_use = [properties_dict_inv[x] for x in properties_to_use]"
   ]
  },
  {
   "cell_type": "code",
   "execution_count": 217,
   "metadata": {},
   "outputs": [
    {
     "data": {
      "text/plain": [
       "0.9887051230334812"
      ]
     },
     "execution_count": 217,
     "metadata": {},
     "output_type": "execute_result"
    }
   ],
   "source": [
    "filtered_entities = filter_by_properties(entities_matched, properties_to_use)\n",
    "len(filtered_entities) / len(entities_matched)"
   ]
  },
  {
   "cell_type": "code",
   "execution_count": 218,
   "metadata": {},
   "outputs": [],
   "source": [
    "#['{}, {}'.format(x, entities_matched[x][0]) for x in set(entities_matched.keys()) - filtered_entities.keys()]"
   ]
  },
  {
   "cell_type": "code",
   "execution_count": 219,
   "metadata": {},
   "outputs": [],
   "source": [
    "properties_frequencies = {}\n",
    "for ent, ids in entities_matched.items():\n",
    "    for id in ids:\n",
    "        ppts = list(wikidata[id]['relations'])\n",
    "        for p in ppts:\n",
    "            try:\n",
    "                properties_frequencies[p] += 1\n",
    "            except KeyError:\n",
    "                properties_frequencies[p] = 1"
   ]
  },
  {
   "cell_type": "code",
   "execution_count": 220,
   "metadata": {},
   "outputs": [],
   "source": [
    "ppts, fqs = zip(*sorted(properties_frequencies.items(), reverse=True, key=lambda x: x[1]))"
   ]
  },
  {
   "cell_type": "code",
   "execution_count": 221,
   "metadata": {},
   "outputs": [
    {
     "data": {
      "image/png": "[encoded data removed]",
      "text/plain": [
       "<matplotlib.figure.Figure at 0x7f0888bb79b0>"
      ]
     },
     "metadata": {},
     "output_type": "display_data"
    }
   ],
   "source": [
    "import matplotlib.pyplot as plt\n",
    "plt.hist(fqs)\n",
    "plt.show()"
   ]
  },
  {
   "cell_type": "code",
   "execution_count": 294,
   "metadata": {},
   "outputs": [],
   "source": [
    "ppts_fq = [x for x, y in zip(ppts, fqs) if y >= 10]\n",
    "properties_to_use = ppts_fq"
   ]
  },
  {
   "cell_type": "code",
   "execution_count": 295,
   "metadata": {},
   "outputs": [
    {
     "data": {
      "text/plain": [
       "0.9933440903590157"
      ]
     },
     "execution_count": 295,
     "metadata": {},
     "output_type": "execute_result"
    }
   ],
   "source": [
    "filtered_entities = filter_by_properties(entities_matched, properties_to_use)\n",
    "len(filtered_entities) / len(entities_matched)"
   ]
  },
  {
   "cell_type": "code",
   "execution_count": 296,
   "metadata": {},
   "outputs": [],
   "source": [
    "#[properties_dict[x]['label'] for x in ppts_fq]"
   ]
  },
  {
   "cell_type": "code",
   "execution_count": 297,
   "metadata": {},
   "outputs": [],
   "source": [
    "nbrs_fq = {}\n",
    "for ent, ids in entities_matched.items():\n",
    "    for id in ids:\n",
    "        for rel, nbr in wikidata[id]['relations'].items():\n",
    "            if rel not in properties_to_use:\n",
    "                break\n",
    "            for n in nbr:\n",
    "                try:\n",
    "                    nbrs_fq[n] += 1\n",
    "                except KeyError:\n",
    "                    nbrs_fq[n] = 1\n",
    "    "
   ]
  },
  {
   "cell_type": "code",
   "execution_count": 298,
   "metadata": {},
   "outputs": [
    {
     "data": {
      "text/plain": [
       "(500, 26352)"
      ]
     },
     "execution_count": 298,
     "metadata": {},
     "output_type": "execute_result"
    }
   ],
   "source": [
    "fq_nbrs = [t for t, x in nbrs_fq.items() if x > 10]\n",
    "len(fq_nbrs), len(nbrs_fq)"
   ]
  },
  {
   "cell_type": "code",
   "execution_count": 299,
   "metadata": {},
   "outputs": [],
   "source": [
    "def filter_subgraph(entities_ids, allowed_ppts, allowed_nbrs):\n",
    "    ent_filtered = {}\n",
    "    for ent in entities_ids:\n",
    "        rels = {}\n",
    "        for r, nbrs in wikidata[ent]['relations'].items():\n",
    "            #r = properties_dict[r]['label']\n",
    "            if r not in allowed_ppts:\n",
    "                continue\n",
    "            for nbr in nbrs:\n",
    "                if nbr not in allowed_nbrs:\n",
    "                    continue\n",
    "                \n",
    "                #print(r)\n",
    "                if r not in rels:\n",
    "                    rels[r] = [nbr]\n",
    "                else:\n",
    "                    rels[r].append(nbr)\n",
    "        if len(rels) > 0:\n",
    "            ent_filtered[ent] = rels\n",
    "    return ent_filtered"
   ]
  },
  {
   "cell_type": "code",
   "execution_count": 300,
   "metadata": {},
   "outputs": [],
   "source": [
    "entities_matched_ids = [ x for i, t in entities_matched.items() for x in t]\n",
    "matched_ultimate = filter_subgraph(entities_matched_ids, properties_to_use, fq_nbrs)"
   ]
  },
  {
   "cell_type": "code",
   "execution_count": 301,
   "metadata": {},
   "outputs": [],
   "source": [
    "#matched_ultimate"
   ]
  },
  {
   "cell_type": "code",
   "execution_count": 302,
   "metadata": {},
   "outputs": [],
   "source": [
    "matched_ultimate_human = {}\n",
    "# risk: did not consider ambiguity. \n",
    "for ent, rels in matched_ultimate.items():\n",
    "    ent = wikidata[ent]['label'].lower()\n",
    "    if ent not in entities_matched:\n",
    "        continue\n",
    "    rels_human = {}\n",
    "    for rel, nbrs in rels.items():\n",
    "        rel = properties_dict[rel]['label']\n",
    "        nbrs = [wikidata[x]['label'].lower() for x in nbrs if wikidata[x] is not None]\n",
    "        rels_human[rel] = nbrs\n",
    "    matched_ultimate_human[ent] = rels_human"
   ]
  },
  {
   "cell_type": "code",
   "execution_count": 320,
   "metadata": {},
   "outputs": [
    {
     "data": {
      "text/plain": [
       "{'capital': ['brussels'],\n",
       " 'continent': ['europe'],\n",
       " 'country': ['belgium'],\n",
       " 'described by source': ['armenian soviet encyclopedia',\n",
       "  'sytin military encyclopedia',\n",
       "  'brockhaus and efron encyclopedic dictionary',\n",
       "  'small brockhaus and efron encyclopedic dictionary'],\n",
       " 'diplomatic relation': ['luxembourg',\n",
       "  'italy',\n",
       "  'germany',\n",
       "  'australia',\n",
       "  'ukraine',\n",
       "  'france',\n",
       "  'united kingdom',\n",
       "  'canada',\n",
       "  'indonesia',\n",
       "  'denmark',\n",
       "  'turkey',\n",
       "  'netherlands',\n",
       "  'uruguay',\n",
       "  'malaysia',\n",
       "  'pakistan',\n",
       "  'taiwan',\n",
       "  'mexico',\n",
       "  'democratic republic of the congo',\n",
       "  'united states of america',\n",
       "  'russia',\n",
       "  'india',\n",
       "  'greece',\n",
       "  \"people's republic of china\",\n",
       "  'georgia',\n",
       "  'israel',\n",
       "  'kingdom of the netherlands',\n",
       "  'hungary'],\n",
       " 'driving side': ['right'],\n",
       " 'electrical plug type': ['europlug'],\n",
       " 'emergency phone number': ['112'],\n",
       " 'has quality': ['free country'],\n",
       " 'instance of': ['sovereign state', 'country'],\n",
       " 'language used': ['dutch', 'german', 'french'],\n",
       " 'located in time zone': ['central european time', 'utc+01:00', 'utc+02:00'],\n",
       " 'member of': ['european union',\n",
       "  'united nations',\n",
       "  'world trade organization',\n",
       "  'international bank for reconstruction and development',\n",
       "  'international development association',\n",
       "  'international centre for settlement of investment disputes',\n",
       "  'african development bank',\n",
       "  'asian development bank',\n",
       "  'interpol',\n",
       "  'organisation for the prohibition of chemical weapons',\n",
       "  'international hydrographic organization',\n",
       "  'unesco',\n",
       "  'group on earth observations',\n",
       "  'universal postal union',\n",
       "  'international telecommunication union'],\n",
       " 'official language': ['dutch', 'french', 'german'],\n",
       " 'railway traffic side': ['left'],\n",
       " 'shares border with': ['germany',\n",
       "  'luxembourg',\n",
       "  'france',\n",
       "  'netherlands',\n",
       "  'kingdom of the netherlands']}"
      ]
     },
     "execution_count": 320,
     "metadata": {},
     "output_type": "execute_result"
    }
   ],
   "source": [
    "matched_ultimate_human['belgium']"
   ]
  },
  {
   "cell_type": "code",
   "execution_count": 303,
   "metadata": {},
   "outputs": [
    {
     "data": {
      "text/plain": [
       "'LOC'"
      ]
     },
     "execution_count": 303,
     "metadata": {},
     "output_type": "execute_result"
    }
   ],
   "source": [
    "entities_type_table = {x.lower(): t for t, ents in entities_by_generics.items() for x in ents}\n",
    "entities_type_table['belgium']"
   ]
  },
  {
   "cell_type": "code",
   "execution_count": 304,
   "metadata": {},
   "outputs": [],
   "source": [
    "from torch.utils.data import Dataset, DataLoader\n",
    "import torch\n",
    "\n",
    "class PptyData(Dataset):\n",
    "    def __init__(self, ent_properties, ent_type):\n",
    "        self.property_table = ent_properties\n",
    "        self.type_table = ent_type\n",
    "        self.prepare()\n",
    "        \n",
    "    def prepare(self):\n",
    "        \n",
    "        self.properties = set([x for _, rels in self.property_table.items()\n",
    "                              for ptype, ppty in rels.items()\n",
    "                              for x in ppty])\n",
    "        \n",
    "        preserved = ['<pad>']\n",
    "        self.p2id = {i: t + len(preserved) for t, i in enumerate(self.properties)}\n",
    "        self.id2p = {i: t for t, i in self.p2id.items()}\n",
    "        for i, t in enumerate(preserved):\n",
    "            self.p2id[t] = i\n",
    "            self.id2p[i] = t\n",
    "        \n",
    "        self.types = set([x for _, x in self.type_table.items()])\n",
    "        self.ents = list([x for x, _ in self.property_table.items()])\n",
    "        self.t2id = {i: t for t, i in enumerate(self.types)}\n",
    "        self.id2t = {i: t for t, i in self.t2id.items()}\n",
    "        \n",
    "        self.unnested = {x: [t for _, s in rels.items() for t in s] for x, rels in  self.property_table.items()}\n",
    "        self.max_len = max([len(x) for _, x in self.unnested.items()])\n",
    "    \n",
    "    def pad(self, x, max_len):\n",
    "        gap = len(x) - max_len\n",
    "        if gap > 0: \n",
    "            return x[gap:]\n",
    "        else:\n",
    "            return x + [0] * (-gap)\n",
    "    \n",
    "    def __getitem__(self, idx):\n",
    "        ent = self.ents[idx]\n",
    "        ppty = [self.p2id[x] for x in self.unnested[ent]]\n",
    "        len_ = len(ppty)\n",
    "        ppty = self.pad(ppty, self.max_len)\n",
    "        label = self.t2id[self.type_table[ent]]\n",
    "        \n",
    "        return torch.tensor(ppty).long(), torch.tensor(label).long(), len_\n",
    "    \n",
    "    def __len__(self):\n",
    "        return len(self.property_table)"
   ]
  },
  {
   "cell_type": "code",
   "execution_count": 305,
   "metadata": {},
   "outputs": [],
   "source": [
    "dataset = PptyData(matched_ultimate_human, entities_type_table)"
   ]
  },
  {
   "cell_type": "code",
   "execution_count": 306,
   "metadata": {},
   "outputs": [],
   "source": [
    "import torch\n",
    "import torch.nn as nn\n",
    "import torch.optim as optim\n",
    "import torch.nn.functional as F"
   ]
  },
  {
   "cell_type": "code",
   "execution_count": 307,
   "metadata": {},
   "outputs": [
    {
     "data": {
      "text/plain": [
       "3673"
      ]
     },
     "execution_count": 307,
     "metadata": {},
     "output_type": "execute_result"
    }
   ],
   "source": [
    "len(dataset)"
   ]
  },
  {
   "cell_type": "code",
   "execution_count": 318,
   "metadata": {},
   "outputs": [],
   "source": [
    "class DNFNet(nn.Module):\n",
    "    def __init__(self, n_vars, n_class, n_dim):\n",
    "        super(DNFNet, self).__init__()\n",
    "        self.v_embedding = nn.Embedding(n_vars, n_dim)\n",
    "        self.y_embedding = nn.Embedding(n_class, n_dim)\n",
    "        \n",
    "        #self.f = nn.Sequential(nn.Linear(n_dim*2, n_dim*2),\n",
    "        self.f = nn.Sequential(nn.Linear(n_dim, n_dim), \n",
    "                              nn.ReLU(),\n",
    "                              nn.Linear(n_dim, n_dim))\n",
    "        \n",
    "        self.g = nn.Sequential(nn.Linear(n_dim, n_dim),\n",
    "                              nn.ReLU(),\n",
    "                              nn.Linear(n_dim, n_dim))\n",
    "        \n",
    "        self.out = nn.Linear(n_dim, n_class)\n",
    "        \n",
    "        self.criterion = nn.CrossEntropyLoss()\n",
    "        \n",
    "    def predict(self, vars, mask=None):\n",
    "        \"\"\"\n",
    "        vars: N * max_len\n",
    "        mask: N * max_len\n",
    "        \"\"\"\n",
    "        l_embedded = self.y_embedding.weight.unsqueeze(0)                # 1 * y * d\n",
    "        l_embedded = l_embedded.repeat(vars.shape[0], 1, 1) # N * y * d\n",
    "        l_embedded = l_embedded.transpose(1, 2)     # N * d * y\n",
    "        v_embedded = self.v_embedding(vars)         # N * max_len * d\n",
    "        scores = torch.bmm(v_embedded, l_embedded)  # N * max_len * y\n",
    "        \n",
    "        \n",
    "        norm_1 = l_embedded.norm(dim=1).unsqueeze(1) # N * 1 * y\n",
    "        norm_1 = norm_1.repeat(1, v_embedded.shape[1], 1) # N * max_len * y\n",
    "        norm_2 = v_embedded.norm(dim=2).unsqueeze(2)  # N * max_len * 1\n",
    "        norm_2 = norm_2.repeat(1, 1, l_embedded.shape[2]) # N * max_len * y\n",
    "        \n",
    "        scores = scores / norm_1\n",
    "        scores = scores / norm_2\n",
    "    \n",
    "        \n",
    "        mask = mask.unsqueeze(-1).repeat(1, 1, scores.shape[2])\n",
    "        if mask is not None:\n",
    "            scores = scores * mask\n",
    "        scores = scores.sum(1) \n",
    "        #print(mask[:,:,0].sum(1))\n",
    "        #print(scores / mask.sum(1))\n",
    "        return scores\n",
    "        \n",
    "        \n",
    "    def forward(self, vars, label, neg_vars, mask=None):\n",
    "        \"\"\"\n",
    "        N = n_batch\n",
    "        vars: N * max_len\n",
    "        label: N\n",
    "        neg_vars: N*k\n",
    "        mask: N*max_len\n",
    "        \"\"\"\n",
    "        \n",
    "        vars_embedded = self.v_embedding(vars) # N * max_len * d\n",
    "        label_embedded = self.y_embedding(label) # N * d\n",
    "        neg_vars_embedded = self.v_embedding(neg_vars) # N * k * d\n",
    "        \n",
    "        # correlative score.\n",
    "        score_pos = torch.bmm(vars_embedded, label_embedded.unsqueeze(2)).squeeze()  # N * max_len \n",
    "        score_neg = torch.bmm(neg_vars_embedded, label_embedded.unsqueeze(2)).squeeze()\n",
    "        \n",
    "        if mask is not None:\n",
    "            score_pos[~mask] = float('inf')\n",
    "        \n",
    "        score_pos = torch.sum(F.logsigmoid(score_pos), 1)  # N \n",
    "        score_neg = torch.sum(F.logsigmoid(-score_neg), 1)\n",
    "        \n",
    "            \n",
    "        # predictive loss.\n",
    "        scores_pred = self.predict(vars, mask)\n",
    "        loss_pred = self.criterion(scores_pred, label)\n",
    "        \n",
    "        return loss_pred, -score_pos.mean(), -score_neg.mean()"
   ]
  },
  {
   "cell_type": "code",
   "execution_count": null,
   "metadata": {},
   "outputs": [],
   "source": []
  },
  {
   "cell_type": "code",
   "execution_count": 309,
   "metadata": {},
   "outputs": [],
   "source": [
    "train_size = int(0.7 * len(dataset))\n",
    "test_size = len(dataset) - train_size\n",
    "train, test = torch.utils.data.random_split(dataset, [train_size, test_size])"
   ]
  },
  {
   "cell_type": "code",
   "execution_count": 310,
   "metadata": {},
   "outputs": [],
   "source": [
    "dataloader = DataLoader(train, batch_size=32, shuffle=True)"
   ]
  },
  {
   "cell_type": "code",
   "execution_count": 311,
   "metadata": {},
   "outputs": [],
   "source": [
    "n_pptys = len(dataset.p2id)\n",
    "n_class = len(dataset.types)\n",
    "model = DNFNet(n_vars=n_pptys, n_class=n_class, n_dim=50)"
   ]
  },
  {
   "cell_type": "code",
   "execution_count": 312,
   "metadata": {},
   "outputs": [
    {
     "name": "stdout",
     "output_type": "stream",
     "text": [
      "[1/100] 15.248780755996703, 3.1233091354370117, 7.032374858856201, 10.789660453796387\n",
      "[2/100] 11.01885621547699, 1.6580084562301636, 13.639389038085938, 7.146434307098389\n",
      "[3/100] 8.820847840309144, 13.402762413024902, 10.684762954711914, 7.661125659942627\n",
      "[4/100] 7.197421064376831, 2.7461206912994385, 3.253587245941162, 8.789986610412598\n",
      "[5/100] 6.0737599492073056, 3.0793540477752686, 4.570868968963623, 9.281163215637207\n",
      "[6/100] 5.132927329540252, 1.5409830808639526, 1.037201166152954, 9.432024955749512\n",
      "[7/100] 4.428012970685959, 1.970682978630066, 1.502974271774292, 9.955243110656738\n",
      "[8/100] 3.859005823135376, 2.3773398399353027, 1.202612042427063, 10.644682884216309\n",
      "[9/100] 3.3836159563064574, 0.8958694934844971, 0.29166099429130554, 8.9658842086792\n",
      "[10/100] 3.0182644760608675, 1.417157530784607, 0.7248548865318298, 8.600269317626953\n",
      "[11/100] 2.698909111022949, 1.586581826210022, 0.16121210157871246, 10.031804084777832\n",
      "[12/100] 2.46529701590538, 1.9820317029953003, 4.681620121002197, 12.839383125305176\n",
      "[13/100] 2.213365957736969, 0.8202714920043945, 0.9579706788063049, 8.813955307006836\n",
      "[14/100] 2.0033238887786866, 0.07872241735458374, 0.7197974920272827, 9.294286727905273\n",
      "[15/100] 1.8439947390556335, 1.1452997922897339, 0.7625388503074646, 11.044800758361816\n",
      "[16/100] 1.6915639752149583, 0.06621838361024857, 0.552547037601471, 9.071426391601562\n",
      "[17/100] 1.5996597784757614, 1.326133370399475, 4.291635513305664, 10.474119186401367\n",
      "[18/100] 1.4617131102085112, 0.27113160490989685, 0.5514220595359802, 7.996407985687256\n",
      "[19/100] 1.3669819742441178, 0.46956202387809753, 0.17002488672733307, 10.744457244873047\n",
      "[20/100] 1.2770275640487672, 0.007996455766260624, 0.1818978637456894, 11.236738204956055\n",
      "[21/100] 1.2120211416482924, 0.8180779814720154, 0.42748087644577026, 14.430377960205078\n",
      "[22/100] 1.153115314245224, 1.9826580286026, 0.14560732245445251, 11.236612319946289\n",
      "[23/100] 1.091019675731659, 2.225259304046631, 0.2476108968257904, 11.226141929626465\n",
      "[24/100] 1.038176583647728, 2.263319253921509, 0.8660079836845398, 11.824862480163574\n",
      "[25/100] 0.9774868875741959, 1.315583348274231, 0.14291636645793915, 10.463257789611816\n",
      "[26/100] 0.9354800999164581, 1.0903257131576538, 0.6156820058822632, 7.416071891784668\n",
      "[27/100] 0.8855320313572883, 0.49335435032844543, 0.17545045912265778, 9.951852798461914\n",
      "[28/100] 0.8460306611657142, 0.35765203833580017, 0.06631311774253845, 13.224166870117188\n",
      "[29/100] 0.8134420070052147, 0.4043635129928589, 0.05326799303293228, 10.500563621520996\n",
      "[30/100] 0.783221036195755, 0.3763224482536316, 0.14204899966716766, 12.368302345275879\n",
      "[31/100] 0.7630413809418678, 1.065534234046936, 0.07460726797580719, 9.646313667297363\n",
      "[32/100] 0.733087072968483, 0.3931278884410858, 0.11204660683870316, 13.120660781860352\n",
      "[33/100] 0.7105542215704918, 0.5712858438491821, 0.06001277267932892, 9.544994354248047\n",
      "[34/100] 0.6897524386644364, 0.6624469757080078, 0.04888390377163887, 10.363138198852539\n",
      "[35/100] 0.6735334849357605, 0.3435073494911194, 0.7753247618675232, 11.5388765335083\n",
      "[36/100] 0.6517611879110337, 0.454648494720459, 0.02577102743089199, 12.627882957458496\n",
      "[37/100] 0.639231626689434, 0.8599072098731995, 0.06626046448945999, 12.30078125\n",
      "[38/100] 0.6405639740824699, 2.6082355976104736, 0.5571632385253906, 12.958023071289062\n",
      "[39/100] 0.6119056257605553, 0.7898204922676086, 0.16666141152381897, 11.23415470123291\n",
      "[40/100] 0.5954010280966758, 0.5271735787391663, 0.039516884833574295, 11.532023429870605\n",
      "[41/100] 0.5847381260991097, 0.4801945686340332, 0.025588078424334526, 15.059350967407227\n",
      "[42/100] 0.5748161715269089, 0.6954289078712463, 0.026192618533968925, 12.69198989868164\n",
      "[43/100] 0.5651192194223404, 0.5559210181236267, 0.09863992035388947, 11.644997596740723\n",
      "[44/100] 0.55690370708704, 0.6551527976989746, 0.05709433555603027, 14.31148624420166\n",
      "[45/100] 0.5484566950798034, 0.6991158127784729, 0.0985356867313385, 16.230283737182617\n",
      "[46/100] 0.5400946724414826, 0.6321735382080078, 0.016666866838932037, 11.257172584533691\n",
      "[47/100] 0.5333911168575287, 0.6469118595123291, 0.03046708181500435, 16.22197151184082\n",
      "[48/100] 0.5268332615494729, 0.5983936190605164, 0.02266555279493332, 13.712502479553223\n",
      "[49/100] 0.5239816525578499, 1.1423147916793823, 0.007315624970942736, 12.7582426071167\n",
      "[50/100] 0.5171163508296013, 0.8679899573326111, 0.01797560229897499, 13.537151336669922\n",
      "[51/100] 0.5102322536706925, 0.44391757249832153, 0.12152964621782303, 12.521490097045898\n",
      "[52/100] 0.5058413252234459, 0.5749616026878357, 0.02067815326154232, 9.48976993560791\n",
      "[53/100] 0.5026197049021721, 0.7467291355133057, 0.014959875494241714, 11.161563873291016\n",
      "[54/100] 0.5004456940293313, 0.8896062970161438, 0.07318639010190964, 14.746539115905762\n",
      "[55/100] 0.4962084034085274, 0.712977409362793, 0.017490044236183167, 15.414102554321289\n",
      "[56/100] 0.4936112797260284, 0.6614232063293457, 0.039246078580617905, 14.55783462524414\n",
      "[57/100] 0.49515377342700956, 0.4768853187561035, 0.015955805778503418, 16.74583625793457\n",
      "[58/100] 0.4889673784375191, 0.6233019232749939, 0.037962671369314194, 14.821212768554688\n",
      "[59/100] 0.4855073407292366, 0.5801286101341248, 0.0584283247590065, 9.570557594299316\n",
      "[60/100] 0.4810939621925354, 0.3955290913581848, 0.010218583047389984, 17.29700469970703\n",
      "[61/100] 0.4800979074835777, 0.800270676612854, 0.023845501244068146, 13.777215957641602\n",
      "[62/100] 0.47620028287172317, 0.3689807653427124, 0.02099287137389183, 12.570959091186523\n",
      "[63/100] 0.4739162883162498, 0.5011099576950073, 0.012449189089238644, 14.827240943908691\n",
      "[64/100] 0.47691312223672866, 0.7706445455551147, 0.026508914306759834, 11.593844413757324\n",
      "[65/100] 0.47051634460687636, 0.3899529278278351, 0.031223507598042488, 14.818780899047852\n",
      "[66/100] 0.46921353101730345, 0.38384297490119934, 0.0075945123098790646, 17.46570587158203\n",
      "[67/100] 0.4701229122281074, 0.9680074453353882, 0.021404020488262177, 14.12436294555664\n",
      "[68/100] 0.4669886218011379, 0.5469247698783875, 0.012561231851577759, 15.856832504272461\n",
      "[69/100] 0.46459246397018433, 0.4348567724227905, 0.019703511148691177, 15.624678611755371\n",
      "[70/100] 0.4650677026808262, 0.5761296153068542, 0.011443018913269043, 14.910083770751953\n",
      "[71/100] 0.4627785685658455, 0.33966121077537537, 0.013758526183664799, 18.63194465637207\n",
      "[72/100] 0.461941441744566, 0.4261425733566284, 0.015739988535642624, 16.45881462097168\n",
      "[73/100] 0.46106295377016066, 0.5182432532310486, 0.007812294643372297, 17.459871292114258\n",
      "[74/100] 0.4592382663488388, 0.450199156999588, 0.015730002894997597, 16.456459045410156\n",
      "[75/100] 0.46052641302347186, 0.7494931817054749, 0.04532766714692116, 16.784704208374023\n",
      "[76/100] 0.45861934721469877, 0.48674461245536804, 0.010978738777339458, 16.520118713378906\n",
      "[77/100] 0.4568581089377403, 0.46613290905952454, 0.004348176531493664, 16.234575271606445\n",
      "[78/100] 0.4555589413642883, 0.41306960582733154, 0.010273776948451996, 16.72205924987793\n",
      "[79/100] 0.4566132712364197, 0.3816750645637512, 0.00978584960103035, 18.00580596923828\n",
      "[80/100] 0.45534889817237856, 0.5206520557403564, 0.007116713095456362, 16.715919494628906\n",
      "[81/100] 0.45694542735815047, 0.6432937383651733, 0.1397097408771515, 17.852750778198242\n",
      "[82/100] 0.45758613288402555, 1.177825689315796, 0.029491977766156197, 13.549178123474121\n",
      "[83/100] 0.4516802150011063, 0.2949313223361969, 0.004387975670397282, 20.140363693237305\n",
      "[84/100] 0.45373159885406494, 0.7714425921440125, 0.005777925252914429, 14.91544246673584\n",
      "[85/100] 0.4542839977145195, 0.6664270162582397, 0.007086643949151039, 16.359046936035156\n",
      "[86/100] 0.451753965318203, 0.484707236289978, 0.007425758522003889, 17.14151382446289\n",
      "[87/100] 0.45236232548952104, 0.5799769759178162, 0.010433979332447052, 18.87944793701172\n",
      "[88/100] 0.4480421593785286, 0.3271510899066925, 0.00524621456861496, 15.771645545959473\n",
      "[89/100] 0.4490193055570126, 0.4143250584602356, 0.0034306684974581003, 18.90398597717285\n",
      "[90/100] 0.4507130080461502, 0.5658908486366272, 0.008633269928395748, 17.51140022277832\n",
      "[91/100] 0.4462443622946739, 0.13698817789554596, 0.005572875030338764, 22.804176330566406\n",
      "[92/100] 0.4491052734851837, 0.6335361003875732, 0.0057979729026556015, 19.187578201293945\n",
      "[93/100] 0.44737405896186827, 0.3953690230846405, 0.005685535259544849, 19.10651206970215\n",
      "[94/100] 0.44718186408281324, 0.5056247115135193, 0.0128940399736166, 17.90229606628418\n",
      "[95/100] 0.44760705560445785, 0.5859357118606567, 0.020619453862309456, 17.740570068359375\n",
      "[96/100] 0.4480966052412987, 0.5559706091880798, 0.024512600153684616, 19.20163345336914\n",
      "[97/100] 0.44868429511785507, 0.6742064952850342, 0.0027133554685860872, 19.27629852294922\n",
      "[98/100] 0.4447107020020485, 0.5536701679229736, 0.004188553895801306, 15.744269371032715\n",
      "[99/100] 0.446285705268383, 0.4102354347705841, 0.0065623074769973755, 20.926998138427734\n",
      "[100/100] 0.4445994073152542, 0.43661025166511536, 0.003435934893786907, 16.94651985168457\n"
     ]
    }
   ],
   "source": [
    "\n",
    "n_epochs = 100\n",
    "device = 'cpu'\n",
    "\n",
    "model = model.to(device)\n",
    "optimizer = optim.Adam(model.parameters(), lr=0.001)\n",
    "\n",
    "for i_epoch in range(n_epochs):\n",
    "    loss_history = []\n",
    "    for t in dataloader:\n",
    "        optimizer.zero_grad()\n",
    "        vars, label, lens = t\n",
    "        mask = (torch.arange(vars.shape[1])[None, :] < lens[:, None]).to(device)\n",
    "        vars, label = vars.to(device), label.to(device)\n",
    "\n",
    "        neg_vars = torch.tensor([random.sample(range(n_pptys), 3) for _ in label]).to(device)\n",
    "        \n",
    "        loss_pred, loss_var, loss_var_neg = model(vars, label, neg_vars, mask)\n",
    "        loss =  loss_pred + loss_var # + loss_var_neg\n",
    "        loss.backward()\n",
    "        optimizer.step()\n",
    "        loss_history.append(loss.item())\n",
    "        \n",
    "    print('[{}/{}] {}, {}, {}, {}'.format(i_epoch+1, n_epochs, sum(loss_history[-100:])/100, \n",
    "                                          loss_pred.item(), loss_var.item(), loss_var_neg.item()))"
   ]
  },
  {
   "cell_type": "code",
   "execution_count": 313,
   "metadata": {},
   "outputs": [],
   "source": [
    "tester = DataLoader(test, batch_size=len(test))"
   ]
  },
  {
   "cell_type": "code",
   "execution_count": 316,
   "metadata": {},
   "outputs": [],
   "source": [
    "t = next(iter(tester))\n",
    "vars, label, lens = t\n",
    "mask = (torch.arange(vars.shape[1])[None, :] < lens[:, None]).to(device)\n",
    "vars, label = vars.to(device), label.to(device)\n",
    "\n",
    "neg_vars = torch.tensor([random.sample(range(n_pptys), 3) for _ in label]).to(device)\n",
    "\n",
    "scores = model.predict(vars, mask)\n",
    "y_pred = scores.argmax(1)"
   ]
  },
  {
   "cell_type": "code",
   "execution_count": 317,
   "metadata": {},
   "outputs": [
    {
     "data": {
      "text/plain": [
       "tensor(0.7069)"
      ]
     },
     "execution_count": 317,
     "metadata": {},
     "output_type": "execute_result"
    }
   ],
   "source": [
    "(y_pred == label).float().mean()"
   ]
  },
  {
   "cell_type": "code",
   "execution_count": null,
   "metadata": {},
   "outputs": [],
   "source": []
  }
 ],
 "metadata": {
  "kernelspec": {
   "display_name": "Python 3",
   "language": "python",
   "name": "python3"
  },
  "language_info": {
   "codemirror_mode": {
    "name": "ipython",
    "version": 3
   },
   "file_extension": ".py",
   "mimetype": "text/x-python",
   "name": "python",
   "nbconvert_exporter": "python",
   "pygments_lexer": "ipython3",
   "version": "3.6.8"
  }
 },
 "nbformat": 4,
 "nbformat_minor": 4
}
